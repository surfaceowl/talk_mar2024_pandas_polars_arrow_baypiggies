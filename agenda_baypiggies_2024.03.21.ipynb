{
 "cells": [
  {
   "cell_type": "markdown",
   "id": "a481fde2-5709-40ca-a295-e222e793ac99",
   "metadata": {
    "editable": true,
    "slideshow": {
     "slide_type": "slide"
    },
    "tags": []
   },
   "source": [
    "<table style=\"width:100%\">\n",
    "  <tr>\n",
    "    <td style=\"width:30%;\"><img src=\"./images/baypiggies_logo.webp\" alt=\"BayPiggies Logo\" style=\"width:100%;\"></td>\n",
    "    <td style=\"font-size:32px; padding-left:20px;\">\n",
    "      <h1>BayPiggies Meetup</h1><br><br><br><br>\n",
    "      <p>San Jose Cambrian Library</p><br><br>\n",
    "      <p><strong>2024.21.03</p>\n",
    "    </td>\n",
    "  </tr>\n",
    "</table>\n"
   ]
  },
  {
   "cell_type": "markdown",
   "id": "f75b7e22-e139-41d9-b3ac-9e28614c44f4",
   "metadata": {
    "editable": true,
    "slideshow": {
     "slide_type": "slide"
    },
    "tags": []
   },
   "source": [
    "# Agenda<br><br>\n",
    "\n",
    "<table style=\"width: 70%; margin-left: auto; margin-right: auto; border-collapse: collapse;\">\n",
    "    <tr style=\"background-color: #f2f2f2;\">\n",
    "        <td style=\"text-align: right; font-size: 32px; padding-right: 10px; width: 25%; vertical-align: top;\">6:30-7:00pm</td>\n",
    "        <td style=\"font-size: 32px; width: 75%; vertical-align: top;\">networking<br></td>\n",
    "    </tr>\n",
    "    <tr style=\"background-color: white;\">\n",
    "        <td style=\"text-align: right; font-size: 32px; padding-right: 10px; vertical-align: top;\">7:00pm</td>\n",
    "        <td style=\"font-size: 32px; vertical-align: top;\">kickoff & announcements<br></td>\n",
    "    </tr>\n",
    "    <tr style=\"background-color: #f2f2f2;\">\n",
    "        <td style=\"text-align: right; font-size: 32px; padding-right: 10px; vertical-align: top;\">7:05pm</td>\n",
    "        <td style=\"font-size: 32px; vertical-align: top;\"><b>Lightning Talk: Sangeetha Sridharan <br>\"The Fun World of SRE\"<br></td>\n",
    "    </tr>\n",
    "    <tr style=\"background-color: white;\">\n",
    "        <td style=\"text-align: right; font-size: 32px; padding-right: 10px; vertical-align: top;\">7:10pm</td>\n",
    "        <td style=\"font-size: 32px; vertical-align: top;\"><b>Short Talk: Chris Brousseau <br>\"Better Together: Unleashing the Synergy of Pandas, Polars, and Apache Arrow\"<br></td>\n",
    "    </tr>\n",
    "    <tr style=\"background-color: #f2f2f2;\">\n",
    "        <td style=\"text-align: right; font-size: 32px; padding-right: 10px; vertical-align: top;\">7:30pm</td>\n",
    "        <td style=\"font-size: 32px; vertical-align: top;\">Announcements + who is hiring and looking for work?<br></td>\n",
    "    </tr>\n",
    "    <tr style=\"background-color: white;\">\n",
    "        <td style=\"text-align: right; font-size: 32px; padding-right: 10px; vertical-align: top;\">7:30pm</td>\n",
    "        <td style=\"font-size: 32px; vertical-align: top;\"><b>Main Talk: Liz Acosta <br>\"Mock It Till You Make It: How to Verify Your External Mocks Without Ever Leaving Unittest\"<br></td>\n",
    "    </tr>\n",
    "    <tr style=\"background-color: #f2f2f2;\">\n",
    "        <td style=\"text-align: right; font-size: 32px; padding-right: 10px; vertical-align: top;\">9:00pm</td>\n",
    "        <td style=\"font-size: 32px; vertical-align: top;\">Doors close<br></td>\n",
    "    </tr>\n",
    "</table>\n"
   ]
  },
  {
   "cell_type": "code",
   "execution_count": null,
   "id": "9b708cfa-2716-4aca-8b13-b9896294a4b8",
   "metadata": {
    "editable": true,
    "slideshow": {
     "slide_type": ""
    },
    "tags": []
   },
   "outputs": [],
   "source": []
  }
 ],
 "metadata": {
  "kernelspec": {
   "display_name": "Python 3 (ipykernel)",
   "language": "python",
   "name": "python3"
  },
  "language_info": {
   "codemirror_mode": {
    "name": "ipython",
    "version": 3
   },
   "file_extension": ".py",
   "mimetype": "text/x-python",
   "name": "python",
   "nbconvert_exporter": "python",
   "pygments_lexer": "ipython3",
   "version": "3.12.1"
  }
 },
 "nbformat": 4,
 "nbformat_minor": 5
}
